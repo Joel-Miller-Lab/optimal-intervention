{
 "cells": [
  {
   "cell_type": "code",
   "execution_count": 1,
   "metadata": {},
   "outputs": [],
   "source": [
    "import numpy as np\n",
    "import matplotlib.pyplot as plt\n",
    "import matplotlib.colors as colors\n",
    "import matplotlib.cm as cm\n",
    "from scipy import optimize\n",
    "from scipy import linalg\n",
    "import scipy.optimize as so"
   ]
  },
  {
   "cell_type": "code",
   "execution_count": 2,
   "metadata": {},
   "outputs": [],
   "source": [
    "def growth_rate(s, b, gamma): #This function returns the growth rate\n",
    "    B = (b.T * s).T \n",
    "    M = B - np.eye(len(s))*gamma #The largest eigenvalue of M is the growth rate of the epidemic\n",
    "    EV = linalg.eigvals(M)\n",
    "    gr = np.amax(EV) #Growth rate\n",
    "    return gr "
   ]
  },
  {
   "cell_type": "code",
   "execution_count": 3,
   "metadata": {},
   "outputs": [],
   "source": [
    "def FS(x, b, n, g): ## This function gives the final size using the above defined parameters\n",
    "    return [x[k] - n[k]*(1-np.exp(-np.sum(b[k]*x/g))) for k in range(len(n))]"
   ]
  },
  {
   "cell_type": "code",
   "execution_count": 4,
   "metadata": {},
   "outputs": [],
   "source": [
    "def LCFS(a, x): #Expression for linear combination of final sizes 'x'.\n",
    "    return np.sum(a*x) #a and x are arrays with three elements"
   ]
  },
  {
   "cell_type": "code",
   "execution_count": 5,
   "metadata": {},
   "outputs": [],
   "source": [
    "def c_typeII_eqn(c, b, r, n):\n",
    "    #return np.array([np.sum(b[0]*(1-c[0])*(1-c)*r) + np.log(1-r[0]/n[0]), np.sum(b[1]*(1-c[1])*(1-c)*r) + np.log(1-r[1]/n[1]), np.sum(b[2]*(1-c[2])*(1-c)*r) + np.log(1-r[2]/n[2])])\n",
    "    return np.array([np.sum(b[k]*(1-c[k])*(1-c)*r) + np.log(1-r[k]/n[k]) for k in range(len(n))])\n",
    "    \n",
    "def c_typeII(r, b, n):\n",
    "    sol = so.root(c_typeII_eqn, np.random.uniform(-1, 1, len(n)), args = (b, r, n)) #Using a numerical solver to find the c values\n",
    "    return (sol)\n",
    "    "
   ]
  },
  {
   "cell_type": "markdown",
   "metadata": {},
   "source": [
    "Contour plot - parameter space"
   ]
  },
  {
   "cell_type": "code",
   "execution_count": 6,
   "metadata": {},
   "outputs": [],
   "source": [
    "n = np.array([0.4, 0.6]) #Define the sizes of sub-populations\n",
    "no_g = len(n)\n",
    "gamma = 1 #Recovery rate\n",
    "#A = np.array([1, 1, 1]) #Weights of the objective function that is minimized. [1, 1, 1] means the final size of the epidemic is minimized\n",
    "A = np.ones(no_g)\n",
    "#Number of random trials\n",
    "# b1_list, b2_list, FS_int_list, FS_ord_list = [], [], [], []\n",
    "# c1_list, c2_list = [], []\n",
    "# b1_rej, b2_rej, c_rej = [], [], []\n",
    "\n",
    "#rng = np.random.default_rng(2022)\n",
    "\n",
    "\n"
   ]
  },
  {
   "cell_type": "code",
   "execution_count": 21,
   "metadata": {},
   "outputs": [],
   "source": [
    "def compute_final_sizes(b, gamma, n):    \n",
    "    #b = np.array([[b1**2, b1*b2], [b2*b1, b2**2]])    \n",
    "    b_c = np.array([b[k]*(1-c[k])*(1-c) for k in range(len(n))])\n",
    "\n",
    "    count = 0\n",
    "    FS_ord = 2\n",
    "    count_max = 20\n",
    "    fs_flag = False\n",
    "    while fs_flag == False or FS_ord > 1:\n",
    "        root_ord = so.root(FS, np.random.uniform(0.5, 1)*n, args = (b, n, gamma)) ## Using a numerical solver to find the final size\n",
    "        fs_flag = root_ord.success\n",
    "        FS_ord = np.sum(root_ord.x) ## The final sizes without intervention\n",
    "        count = count + 1\n",
    "        if count == count_max:\n",
    "            break\n",
    "\n",
    "    root_int = so.root(FS, 0.9*n, args = (b_c, n, gamma))\n",
    "    FS_int = np.sum(root_int.x)\n",
    "\n",
    "    return [FS_ord, FS_int]"
   ]
  },
  {
   "cell_type": "code",
   "execution_count": null,
   "metadata": {},
   "outputs": [],
   "source": [
    "def compute_cost_function(A, b, gamma, n):    \n",
    "    #b = np.array([[b1**2, b1*b2], [b2*b1, b2**2]])    \n",
    "    b_c = np.array([b[k]*(1-c[k])*(1-c) for k in range(len(n))])\n",
    "\n",
    "    count = 0\n",
    "    CF_ord = 2\n",
    "    count_max = 20\n",
    "    fs_flag = False\n",
    "    while fs_flag == False or FS_ord > 1:\n",
    "        root_ord = so.root(FS, np.random.uniform(0.5, 1)*n, args = (b, n, gamma)) ## Using a numerical solver to find the final size\n",
    "        fs_flag = root_ord.success\n",
    "        CF_ord = np.sum(A*root_ord.x) ## The final sizes without intervention\n",
    "        count = count + 1\n",
    "        if count == count_max:\n",
    "            break\n",
    "\n",
    "    root_int = so.root(FS, 0.9*n, args = (b_c, n, gamma))\n",
    "    CF_int = np.sum(A*root_int.x)\n",
    "\n",
    "    return [CF_ord, CF_int]"
   ]
  },
  {
   "cell_type": "code",
   "execution_count": 7,
   "metadata": {},
   "outputs": [
    {
     "data": {
      "text/plain": [
       "34"
      ]
     },
     "execution_count": 7,
     "metadata": {},
     "output_type": "execute_result"
    }
   ],
   "source": [
    "no_matrices = 3000\n",
    "max_R = 3.5\n",
    "min_R = 0.1\n",
    "matrix_list = []\n",
    "\n",
    "gr, CF_int, CF_ord, c1, c2 = [], [], [], [], []\n",
    "residue = []\n",
    "trials = 10\n",
    "\n",
    "for j in range(no_matrices):\n",
    "    b = min_R + np.random.rand(2, 2)*(max_R - min_R)\n",
    "    tmp = growth_rate(n, b, gamma)\n",
    "    gr.append(tmp)\n",
    "    if tmp>=1e-3:\n",
    "        constraint_growth_rate = optimize.NonlinearConstraint(lambda x: growth_rate(n-x, b, gamma), lb=0, ub=0) #since x is final size, we pass the s array = n-x to the growth rate function\n",
    "        \n",
    "        min_cost_list = []\n",
    "        fs_list = []\n",
    "        #mcx = np.ones(no_g)\n",
    "        for j in range(trials):\n",
    "            optimize_ic = np.random.rand(no_g)*n        \n",
    "            min_cost_tmp = optimize.minimize(LCFS, x0 = optimize_ic, args = (A), constraints = (constraint_growth_rate), bounds = [(0, n[k]) for k in range(len(n))])\n",
    "            if j == 0:\n",
    "                #min_cost = min_cost_tmp.copy()\n",
    "                mcx = min_cost_tmp.copy()['x']\n",
    "            elif (A*min_cost_tmp['x']).sum()<(A*mcx).sum():\n",
    "                #min_size = min_cost_tmp.copy()\n",
    "                mcx = min_cost_tmp.copy()['x']\n",
    "\n",
    "        \n",
    "        \n",
    "        min_size_approx = min_size['x'].copy()\n",
    "        if np.abs(min_size['x'][0] - n[0])<1e-3: \n",
    "            min_size_approx[0] = 0.99*min_size_approx[0]\n",
    "        if np.abs(min_size['x'][1] - n[1])<1e-3:\n",
    "            min_size_approx[1] = 0.99*min_size_approx[1]\n",
    "\n",
    "        \n",
    "        sol = so.root(c_typeII_eqn, np.random.uniform(-1, 1, no_g), args = (b, min_size_approx, n))\n",
    "        for j in range(trials):\n",
    "            sol_tmp = so.root(c_typeII_eqn, np.random.uniform(-1, 1, no_g), args = (b, min_size_approx, n))\n",
    "            if np.abs(sol_tmp['fun']).sum()<np.abs(sol['fun']).sum():\n",
    "                sol = sol_tmp.copy()\n",
    "                #sol_list.append(sol)\n",
    "                #dist_list.append(((sol.fun)**2).sum())\n",
    "\n",
    "        #c, c_flag, c_fun = compute_c(x, y, gamma, n)\n",
    "        c = sol['x']\n",
    "        c_flag = sol['success']\n",
    "        fss = compute_final_sizes(b, gamma, n)\n",
    "        \n",
    "        \n",
    "        if c_flag == True:\n",
    "            c1.append(c[0])\n",
    "            c2.append(c[1])\n",
    "            FS_ord.append(fss[0])\n",
    "            FS_int.append(fss[1])\n",
    "            #residue.append(c_fun)\n",
    "        else:\n",
    "            c1.append(float('NaN'))\n",
    "            c2.append(float('NaN'))\n",
    "            FS_ord.append(float('NaN'))\n",
    "            FS_int.append(float('NaN'))\n",
    "        \n",
    "    else:\n",
    "        c1.append(float('NaN'))\n",
    "        c2.append(float('NaN'))\n",
    "        FS_ord.append(float('NaN'))\n",
    "        FS_int.append(float('NaN'))"
   ]
  },
  {
   "cell_type": "code",
   "execution_count": 22,
   "metadata": {},
   "outputs": [
    {
     "name": "stderr",
     "output_type": "stream",
     "text": [
      "c:\\Users\\pkollepara\\Miniconda3\\envs\\LTU\\lib\\site-packages\\scipy\\optimize\\_numdiff.py:579: ComplexWarning: Casting complex values to real discards the imaginary part\n",
      "  J_transposed[i] = df / dx\n",
      "c:\\Users\\pkollepara\\Miniconda3\\envs\\LTU\\lib\\site-packages\\scipy\\optimize\\slsqp.py:427: ComplexWarning: Casting complex values to real discards the imaginary part\n",
      "  slsqp(m, meq, x, xl, xu, fx, c, g, a, acc, majiter, mode, w, jw,\n"
     ]
    }
   ],
   "source": [
    "#b1_list = np.arange(0.1, 3.5, 0.1)\n",
    "#b2_list = np.arange(0.1, 3.5, 0.1)\n",
    "db = 0.1\n",
    "b1_list = np.arange(0.1, 3.5, db)\n",
    "b2_list = np.arange(0.1, 3.5, db)\n",
    "b1, b2, gr, FS_int, FS_ord, c1, c2 = [], [], [], [], [], [], []\n",
    "residue = []\n",
    "trials = 10\n",
    "for x in b1_list:\n",
    "    for y in b2_list:\n",
    "        b1.append(x)\n",
    "        b2.append(y)\n",
    "        tmp = growth_rate(n, np.array([[x**2, x*y], [y*x, y**2]]), gamma)\n",
    "        gr.append(tmp)\n",
    "        if tmp>=1e-3:\n",
    "            b = np.array([[x**2, x*y], [y*x, y**2]])  \n",
    "            constraint_growth_rate = optimize.NonlinearConstraint(lambda x: growth_rate(n-x, b, gamma), lb=0, ub=0) #since x is final size, we pass the s array = n-x to the growth rate function\n",
    "            \n",
    "            min_size_list = []\n",
    "            fs_list = []\n",
    "            msx = np.ones(no_g)\n",
    "            for j in range(trials):\n",
    "                optimize_ic = np.random.rand(2)*n        \n",
    "                min_size_tmp = optimize.minimize(LCFS, x0 = optimize_ic, args = (A), constraints = (constraint_growth_rate), bounds = [(0, n[k]) for k in range(len(n))])\n",
    "                if j == 0:\n",
    "                    min_size = min_size_tmp.copy()\n",
    "                    msx = min_size['x']\n",
    "                elif min_size_tmp['x'].sum()<msx.sum():\n",
    "                    min_size = min_size_tmp.copy()\n",
    "                    msx = min_size['x']\n",
    "\n",
    "            \n",
    "            \n",
    "            min_size_approx = min_size['x'].copy()\n",
    "            if np.abs(min_size['x'][0] - n[0])<1e-3: \n",
    "                min_size_approx[0] = 0.99*min_size_approx[0]\n",
    "            if np.abs(min_size['x'][1] - n[1])<1e-3:\n",
    "                min_size_approx[1] = 0.99*min_size_approx[1]\n",
    "\n",
    "            \n",
    "            sol = so.root(c_typeII_eqn, np.random.uniform(-1, 1, no_g), args = (b, min_size_approx, n))\n",
    "            for j in range(trials):\n",
    "                sol_tmp = so.root(c_typeII_eqn, np.random.uniform(-1, 1, no_g), args = (b, min_size_approx, n))\n",
    "                if np.abs(sol_tmp['fun']).sum()<np.abs(sol['fun']).sum():\n",
    "                    sol = sol_tmp.copy()\n",
    "                    #sol_list.append(sol)\n",
    "                    #dist_list.append(((sol.fun)**2).sum())\n",
    "\n",
    "            #c, c_flag, c_fun = compute_c(x, y, gamma, n)\n",
    "            c = sol['x']\n",
    "            c_flag = sol['success']\n",
    "            fss = compute_final_sizes(x, y, gamma, n)\n",
    "            \n",
    "            \n",
    "            if c_flag == True:\n",
    "                c1.append(c[0])\n",
    "                c2.append(c[1])\n",
    "                FS_ord.append(fss[0])\n",
    "                FS_int.append(fss[1])\n",
    "                #residue.append(c_fun)\n",
    "            else:\n",
    "                c1.append(float('NaN'))\n",
    "                c2.append(float('NaN'))\n",
    "                FS_ord.append(float('NaN'))\n",
    "                FS_int.append(float('NaN'))\n",
    "            \n",
    "        else:\n",
    "            c1.append(float('NaN'))\n",
    "            c2.append(float('NaN'))\n",
    "            FS_ord.append(float('NaN'))\n",
    "            FS_int.append(float('NaN'))\n",
    "\n",
    "b1_matrix = np.real(np.reshape(b1, (len(b1_list), len(b2_list))))\n",
    "b2_matrix = np.real(np.reshape(b2, (len(b1_list), len(b2_list))))\n",
    "gr_matrix = np.real(np.reshape(gr, (len(b1_list), len(b2_list))))\n",
    "FS_ord_matrix = np.real(np.reshape(FS_ord, (len(b1_list), len(b2_list))))\n",
    "FS_int_matrix = np.real(np.reshape(FS_int, (len(b1_list), len(b2_list))))\n",
    "c1_matrix = np.real(np.reshape(c1, (len(b1_list), len(b2_list))))\n",
    "c2_matrix = np.real(np.reshape(c2, (len(b1_list), len(b2_list))))"
   ]
  },
  {
   "cell_type": "markdown",
   "metadata": {},
   "source": [
    "from shifted_color_map import shiftedColorMap"
   ]
  },
  {
   "cell_type": "markdown",
   "metadata": {},
   "source": [
    "fig, ax = plt.subplots(1, 2, figsize = (2*8, 6)) \n",
    "plt.suptitle(r'$n_1 = %.2f, \\ n_2 = %.2f, \\ G_{kl} = n_k b_k b_l$'%(n[0], n[1]))\n",
    "#custom_cmap_1.set_bad(color='grey')\n",
    "#custom_cmap_2.set_bad(color='grey')\n",
    "im1 = ax[0].imshow(FS_ord_matrix.T, cmap = 'viridis', extent = (b1[0]-db/2, b1[-1]+db/2, b2[0]-db/2, b2[-1]+db/2), origin = 'lower', interpolation = 'none', aspect = 'equal')\n",
    "fig.colorbar(im1, ax=ax[0], location = 'bottom')\n",
    "#co1 = ax[0].contour(b1_matrix, b2_matrix, FS_ord_matrix, colors = 'k', linewidths = 0.5)\n",
    "#ax[0].clabel(co1, inline=True, fontsize='small')\n",
    "\n",
    "im2 = ax[1].imshow(FS_int_matrix.T, cmap = 'viridis', extent = (b1[0], b1[-1], b2[0], b2[-1]), origin = 'lower', interpolation = 'none', aspect = 'equal')\n",
    "fig.colorbar(im2, ax=ax[1], location = 'bottom')\n",
    "#co2 = ax[1].contour(b1_matrix, b2_matrix, FS_ord_matrix, colors = 'k', linewidths = 0.5)\n",
    "#ax[1].clabel(co2, inline=True, fontsize='small')\n",
    "\n",
    "ax[0].set_xlabel(r'$b_1$')\n",
    "ax[0].set_ylabel(r'$b_2$')\n",
    "ax[0].set_title(r'FS_ord')\n",
    "ax[1].set_xlabel(r'$b_1$')\n",
    "ax[1].set_ylabel(r'$b_2$')\n",
    "ax[1].set_title(r'FS_int')\n",
    "#im2 = ax[1].imshow(epidemic_size_matrix.T, cmap = 'copper', extent = (s0[0], s0[-1], s1[0], s1[-1]), origin = 'lower', interpolation = 'none', aspect \n",
    "#plt.savefig('matrix_space_c_A.pdf')"
   ]
  },
  {
   "cell_type": "markdown",
   "metadata": {},
   "source": [
    "custom_cmap_1 = shiftedColorMap(cm.get_cmap('PiYG').copy(), np.nanmin(c1), midpoint = 0, stop = 1, name = 'custom_1')\n",
    "custom_cmap_2 = shiftedColorMap(cm.get_cmap('PiYG').copy(), np.nanmin(c2), midpoint = 0, stop = 1, name = 'custom_2')"
   ]
  },
  {
   "cell_type": "code",
   "execution_count": 12,
   "metadata": {},
   "outputs": [],
   "source": [
    "#%matplotlib widget"
   ]
  },
  {
   "cell_type": "markdown",
   "metadata": {},
   "source": [
    "fig, ax = plt.subplots(1, 2, figsize = (2*8, 6)) \n",
    "plt.suptitle(r'$n_1 = %.2f, \\ n_2 = %.2f, \\ G_{kl} = n_k b_k b_l$'%(n[0], n[1]))\n",
    "custom_cmap_1.set_bad(color='grey')\n",
    "custom_cmap_2.set_bad(color='grey')\n",
    "ax[0].scatter(b1, b2, marker = 's', edgecolor = 'k', facecolor = 'none', lw =0.2)\n",
    "im1 = ax[0].imshow(c1_matrix.T, cmap = custom_cmap_1, extent = (b1[0]-db/2, b1[-1]+db/2, b2[0]-db/2, b2[-1]+db/2), origin = 'lower', interpolation = 'none', aspect = 'equal')\n",
    "fig.colorbar(im1, ax=ax[0], location = 'bottom')\n",
    "co1 = ax[0].contour(b1_matrix, b2_matrix, FS_ord_matrix, colors = 'k', linewidths = 0.5)\n",
    "ax[0].clabel(co1, inline=True, fontsize='small')\n",
    "\n",
    "ax[1].scatter(b1, b2, marker = 's', edgecolor = 'k', facecolor = 'none', lw =0.2)\n",
    "im2 = ax[1].imshow(c2_matrix.T, cmap = custom_cmap_2, extent = (b1[0]-db/2, b1[-1]+db/2, b2[0]-db/2, b2[-1]+db/2), origin = 'lower', interpolation = 'none', aspect = 'equal')\n",
    "fig.colorbar(im2, ax=ax[1], location = 'bottom')\n",
    "co2 = ax[1].contour(b1_matrix, b2_matrix, FS_ord_matrix, colors = 'k', linewidths = 0.5)\n",
    "ax[1].clabel(co2, inline=True, fontsize='small')\n",
    "\n",
    "ax[0].set_xlabel(r'$b_1$')\n",
    "ax[0].set_ylabel(r'$b_2$')\n",
    "ax[0].set_title(r'Colorplot of $c_1$')\n",
    "ax[1].set_xlabel(r'$b_1$')\n",
    "ax[1].set_ylabel(r'$b_2$')\n",
    "ax[1].set_title(r'Colorplot of $c_2$')\n",
    "fig.tight_layout()\n",
    "\n",
    "#im2 = ax[1].imshow(epidemic_size_matrix.T, cmap = 'copper', extent = (s0[0], s0[-1], s1[0], s1[-1]), origin = 'lower', interpolation = 'none', aspect \n",
    "plt.savefig('matrix_space_c_A.pdf')"
   ]
  },
  {
   "cell_type": "markdown",
   "metadata": {},
   "source": [
    "2.6, 1.85"
   ]
  },
  {
   "cell_type": "markdown",
   "metadata": {},
   "source": [
    "Plot whether transmission increases or not"
   ]
  },
  {
   "cell_type": "code",
   "execution_count": 23,
   "metadata": {},
   "outputs": [],
   "source": [
    "b1_increase = np.array(b1)[np.bitwise_or((np.array(c1)<0), np.array(c2)<0)]\n",
    "b2_increase = np.array(b2)[np.bitwise_or((np.array(c1)<0), np.array(c2)<0)]\n",
    "\n"
   ]
  },
  {
   "cell_type": "code",
   "execution_count": 18,
   "metadata": {},
   "outputs": [
    {
     "data": {
      "text/plain": [
       "(366,)"
      ]
     },
     "execution_count": 18,
     "metadata": {},
     "output_type": "execute_result"
    }
   ],
   "source": [
    "b2_increase.shape"
   ]
  },
  {
   "cell_type": "code",
   "execution_count": 19,
   "metadata": {},
   "outputs": [
    {
     "data": {
      "image/png": "[encoded data removed]",
      "text/plain": [
       "<Figure size 360x360 with 1 Axes>"
      ]
     },
     "metadata": {
      "needs_background": "light"
     },
     "output_type": "display_data"
    }
   ],
   "source": [
    "fig, ax = plt.subplots(1, 1, figsize = (5, 5)) \n",
    "plt.suptitle(r'$n_1 = %.2f, \\ n_2 = %.2f, \\ b_{kl} = b_k b_l$'%(n[0], n[1]))\n",
    "\n",
    "im = ax.scatter(b1_increase, b2_increase, s = 25, marker = 's', c = 'lightsteelblue')\n",
    "\n",
    "co1 = ax.contour(b1_matrix, b2_matrix, FS_ord_matrix, colors = 'k', linewidths = 0.8)\n",
    "ax.clabel(co1, inline=True, fontsize='small')\n",
    "\n",
    "ax.set_xlabel(r'$b_1$')\n",
    "ax.set_ylabel(r'$b_2$')\n",
    "ax.set_title(r'Space where transmission needs to be increased')\n",
    "fig.tight_layout()\n",
    "\n",
    "#plt.savefig('matrix_space_increase_B.pdf')"
   ]
  },
  {
   "cell_type": "markdown",
   "metadata": {},
   "source": [
    "LaTeX Figure"
   ]
  },
  {
   "cell_type": "code",
   "execution_count": 24,
   "metadata": {},
   "outputs": [],
   "source": [
    "b1_gray = np.array(b1)[(np.array(gr)<1e-3)]\n",
    "b2_gray = np.array(b2)[(np.array(gr)<1e-3)]\n"
   ]
  },
  {
   "cell_type": "code",
   "execution_count": 18,
   "metadata": {},
   "outputs": [],
   "source": [
    "from matplotlib import rc\n",
    "rc('font', **{'family': 'serif', 'serif': ['Computer Modern']})\n",
    "rc('text', usetex=True)\n",
    "\n",
    "import matplotlib.pyplot as plt\n",
    "\n",
    "FontSize = 8\n",
    "plt.rcParams['axes.linewidth'] = 0.4\n",
    "\n",
    "plt.rc('font', size=FontSize)          # controls default text sizes\n",
    "plt.rc('axes', titlesize=FontSize)     # fontsize of the axes title\n",
    "plt.rc('axes', labelsize=FontSize)    # fontsize of the x and y labels\n",
    "plt.rc('xtick', labelsize=FontSize)    # fontsize of the tick labels\n",
    "plt.rc('ytick', labelsize=FontSize)    # fontsize of the tick labels\n",
    "plt.rc('legend', fontsize=FontSize)    # legend fontsize"
   ]
  },
  {
   "cell_type": "code",
   "execution_count": 25,
   "metadata": {},
   "outputs": [
    {
     "data": {
      "image/png": "[encoded data removed]",
      "text/plain": [
       "<Figure size 157.5x157.5 with 1 Axes>"
      ]
     },
     "metadata": {
      "needs_background": "light"
     },
     "output_type": "display_data"
    }
   ],
   "source": [
    "fig, ax = plt.subplots(1, 1, figsize = (5*3.5/8, 5*3.5/8))\n",
    "\n",
    "#plt.suptitle(r'$n_1 = %.2f, \\ n_2 = %.2f, \\ b_{kl} = b_k b_l$'%(n[0], n[1]))\n",
    "\n",
    "ax.scatter(b1, b2, s = 5, marker = 's', facecolor = 'tan')\n",
    "ax.scatter(b1_gray, b2_gray, s = 5.2, marker = 's', facecolor = 'lightsteelblue')\n",
    "im = ax.scatter(b1_increase, b2_increase, s = 5.2, marker = 's', facecolor = 'rosybrown')\n",
    "\n",
    "\n",
    "ax.set_xlabel(r'$b_1$')\n",
    "ax.set_ylabel(r'$b_2$')\n",
    "#ax.set_title(r'Space where transmission needs to be increased')\n",
    "fig.tight_layout()\n",
    "\n",
    "ax.set_facecolor('none')\n",
    "\n",
    "# Hide the right and top spines\n",
    "ax.spines['right'].set_visible(False)\n",
    "ax.spines['top'].set_visible(False)\n",
    "\n",
    "ax.tick_params('both', which = 'both', direction = 'in', labelsize = FontSize-1, width = 0.4)\n",
    "ax.set_xlim(0, )\n",
    "ax.set_ylim(0, )\n",
    "plt.locator_params('x', nbins = 4)\n",
    "plt.locator_params('y', nbins = 4)\n",
    "\n",
    "ax.set_aspect('equal', 'box')\n",
    "co1 = ax.contour(b1_matrix, b2_matrix, FS_ord_matrix, colors = 'k', linewidths = 0.5)\n",
    "ax.clabel(co1, inline=True, fontsize=FontSize-1)\n",
    "\n",
    "# Only show ticks on the left and bottom spines\n",
    "ax.yaxis.set_ticks_position('left')\n",
    "ax.xaxis.set_ticks_position('bottom')\n",
    "\n",
    "plt.savefig('matrix_space_increase_n1_%.2f_n2_%.2f.pdf'%(n[0], n[1]))"
   ]
  },
  {
   "cell_type": "code",
   "execution_count": 46,
   "metadata": {},
   "outputs": [
    {
     "data": {
      "image/png": "[encoded data removed]",
      "text/plain": [
       "<Figure size 157.5x157.5 with 1 Axes>"
      ]
     },
     "metadata": {
      "needs_background": "light"
     },
     "output_type": "display_data"
    }
   ],
   "source": [
    "fig, ax = plt.subplots(1, 1, figsize = (5*3.5/8, 5*3.5/8))\n",
    "\n",
    "#plt.suptitle(r'$n_1 = %.2f, \\ n_2 = %.2f, \\ b_{kl} = b_k b_l$'%(n[0], n[1]))\n",
    "\n",
    "ax.scatter(b1, b2, c = 'none')\n",
    "ax.scatter(b1, b2, s = 5.5, marker = 's', facecolor = 'tan')\n",
    "\n",
    "ax.scatter(b1_gray, b2_gray, s = 5.5, marker = 's', facecolor = 'lightsteelblue')\n",
    "im = ax.scatter(b1_increase, b2_increase, s = 5.5, marker = 's', facecolor = 'rosybrown')\n",
    "\n",
    "\n",
    "ax.set_xlabel(r'$b_1$')\n",
    "ax.set_ylabel(r'$b_2$')\n",
    "#ax.set_title(r'Space where transmission needs to be increased')\n",
    "fig.tight_layout()\n",
    "\n",
    "ax.set_facecolor('none')\n",
    "\n",
    "# Hide the right and top spines\n",
    "ax.spines['right'].set_visible(False)\n",
    "ax.spines['top'].set_visible(False)\n",
    "\n",
    "ax.tick_params('both', which = 'both', direction = 'in', labelsize = FontSize-1, width = 0.4)\n",
    "ax.set_xlim(0, )\n",
    "ax.set_ylim(0, )\n",
    "plt.locator_params('x', nbins = 4)\n",
    "plt.locator_params('y', nbins = 4)\n",
    "\n",
    "ax.set_aspect('equal', 'box')\n",
    "co1 = ax.contour(b1_matrix, b2_matrix, FS_ord_matrix, colors = 'k', linewidths = 0.5)\n",
    "ax.clabel(co1, inline=True, fontsize=FontSize-1)\n",
    "\n",
    "# Only show ticks on the left and bottom spines\n",
    "ax.yaxis.set_ticks_position('left')\n",
    "ax.xaxis.set_ticks_position('bottom')\n",
    "\n",
    "plt.savefig('matrix_space_increase_B_2_c.pdf')"
   ]
  },
  {
   "cell_type": "code",
   "execution_count": 18,
   "metadata": {},
   "outputs": [
    {
     "data": {
      "text/plain": [
       "array([0.1, 0.2, 0.3, 0.4, 0.5, 0.6, 0.7, 0.8, 0.9, 1. , 1.1, 1.2, 1.3,\n",
       "       1.4, 1.5, 1.6, 1.7, 1.8, 1.9, 2. , 2.1, 2.2, 2.3, 2.4, 2.5, 2.6,\n",
       "       2.7, 2.8, 2.9, 3. , 3.1, 3.2, 3.3, 3.4])"
      ]
     },
     "execution_count": 18,
     "metadata": {},
     "output_type": "execute_result"
    }
   ],
   "source": [
    "b2_list"
   ]
  }
 ],
 "metadata": {
  "interpreter": {
   "hash": "e7235e5b3aa6bdcf765961732522da77149a9b755a61feb1321c9e1c7e01d46c"
  },
  "kernelspec": {
   "display_name": "Python 3.9.6 ('LTU')",
   "language": "python",
   "name": "python3"
  },
  "language_info": {
   "codemirror_mode": {
    "name": "ipython",
    "version": 3
   },
   "file_extension": ".py",
   "mimetype": "text/x-python",
   "name": "python",
   "nbconvert_exporter": "python",
   "pygments_lexer": "ipython3",
   "version": "3.9.6"
  },
  "orig_nbformat": 4
 },
 "nbformat": 4,
 "nbformat_minor": 2
}
