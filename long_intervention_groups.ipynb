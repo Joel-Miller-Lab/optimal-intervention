{
 "cells": [
  {
   "cell_type": "code",
   "execution_count": 1,
   "metadata": {},
   "outputs": [],
   "source": [
    "import numpy as np\n",
    "import matplotlib.pyplot as plt\n",
    "from matplotlib import font_manager\n",
    "from scipy.integrate import solve_ivp\n",
    "from scipy import optimize\n",
    "from scipy import linalg\n",
    "import scipy.optimize as so"
   ]
  },
  {
   "cell_type": "code",
   "execution_count": 2,
   "metadata": {},
   "outputs": [],
   "source": [
    "# Unless specified otherwise, s will refer to the array representing the susceptible populations. Similarly, for i and r."
   ]
  },
  {
   "cell_type": "markdown",
   "metadata": {},
   "source": [
    "Let us say the original transmission matrix is \n",
    "$\\begin{bmatrix}\n",
    "b_{11} & b_{12} & b_{13}\\\\\n",
    "b_{21} & b_{22} & b_{23}\\\\\n",
    "b_{31} & b_{32} & b_{33}\n",
    "\\end{bmatrix}$\n",
    "$b_{11}$ is the rate at which an individual in group 1 infects another individual in group 1\n",
    "$b_{12}$ is the rate at which an individual in group 2 infects another individual in group 1 and so on....\n",
    "\n",
    "An intervention of type 1, leads to a new matrix: \n",
    "$\\begin{bmatrix}\n",
    "b_{11}(1-c_1) & b_{12}(1-c_1) & b_{13}(1-c_1)\\\\ \n",
    "b_{21}(1-c_2) & b_{22}(1-c_2) & b_{23}(1-c_2)\\\\\n",
    "b_{31}(1-c_3) & b_{32}(1-c_3) & b_{33}(1-c_3)\n",
    "\\end{bmatrix}$\n",
    "An intervention of type 2, leads to a new matrix: \n",
    "$\\begin{bmatrix}\n",
    "b_{11}(1-c_1)^2 & b_{12}(1-c_1)(1-c_2) & b_{13}(1-c_1)(1-c_3)\\\\ \n",
    "b_{21}(1-c_2)(1-c_1) & b_{22}(1-c_2)^2 & b_{23}(1-c_2)(1-c_3)\\\\\n",
    "b_{31}(1-c_3)(1-c_1) & b_{32}(1-c_3)(1-c_2) & b_{33}(1-c_3)^2\n",
    "\\end{bmatrix}$\n",
    "\n",
    "Now, the NGM is just the above matrix elements multiplied by their respective gorup sizes and divided by $\\gamma$ (recovery rate).\n",
    "\n",
    "The final size relations make use of this NGM. So, we choose our required final sizes, and solve for $c_1, c_2, c_3$"
   ]
  },
  {
   "cell_type": "code",
   "execution_count": 3,
   "metadata": {},
   "outputs": [],
   "source": [
    "#Choose intervention type -- 1 or 2\n",
    "#Type 1: Intervention creates a protective effect for susceptible. b_ij -> b_ij (1-c_i)\n",
    "#Type 2: Intervention creates both a protective effect for susceptible and a preventive effect for infectious. b_ij -> b_ij (1-c_i)(1-c_j)\n",
    "\n",
    "type = 2\n",
    "\n",
    "#Choose if intervention should only reduce transmission. If false, the transmission may be increased i.e. c can be negative\n",
    "transmission_reduce = True"
   ]
  },
  {
   "cell_type": "code",
   "execution_count": 4,
   "metadata": {},
   "outputs": [],
   "source": [
    "def growth_rate(s, b, gamma): #This function returns the growth rate\n",
    "    B = (b.T * s).T \n",
    "    M = B - np.eye(len(s))*gamma #The largest eigenvalue of M is the growth rate of the epidemic\n",
    "    EV = linalg.eigvals(M)\n",
    "    gr = np.amax(EV) #Growth rate\n",
    "    return gr "
   ]
  },
  {
   "cell_type": "code",
   "execution_count": 5,
   "metadata": {},
   "outputs": [],
   "source": [
    "def FS(x, b, n, g): ## This function gives the final size using the above defined parameters\n",
    "    return [x[k] - n[k]*(1-np.exp(-np.sum(b[k]*x/g))) for k in range(len(n))]"
   ]
  },
  {
   "cell_type": "code",
   "execution_count": 6,
   "metadata": {},
   "outputs": [],
   "source": [
    "def FS_two_waves(x, b, r, n, g):\n",
    "    return [(n[k]-x[k])/(n[k] - r[k]) - np.exp(-np.sum(b[k]*(x-r))/g) for k in range(len(n))]"
   ]
  },
  {
   "cell_type": "code",
   "execution_count": 7,
   "metadata": {},
   "outputs": [],
   "source": [
    "def LCFS(a, x): #Expression for linear combination of final sizes 'x'.\n",
    "    return np.sum(a*x) #a and x are arrays with three elements"
   ]
  },
  {
   "cell_type": "code",
   "execution_count": 8,
   "metadata": {},
   "outputs": [],
   "source": [
    "def c_typeI(r, b, n):\n",
    "    #c = np.array([1 + np.log(1-r[0]/n[0])/np.sum(b[0]*r), 1 + np.log(1-r[1]/n[1])/np.sum(b[1]*r), 1 + np.log(1-r[2]/n[2])/np.sum(b[2]*r)])\n",
    "    c = [1 + np.log(1-r[k]/n[k])/np.sum(b[k]*r) for k in range(len(n))]\n",
    "    return np.array(c)\n",
    "    \n",
    "def c_typeII_eqn(c, b, r, n):\n",
    "    #return np.array([np.sum(b[0]*(1-c[0])*(1-c)*r) + np.log(1-r[0]/n[0]), np.sum(b[1]*(1-c[1])*(1-c)*r) + np.log(1-r[1]/n[1]), np.sum(b[2]*(1-c[2])*(1-c)*r) + np.log(1-r[2]/n[2])])\n",
    "    return np.array([np.sum(b[k]*(1-c[k])*(1-c)*r) + np.log(1-r[k]/n[k]) for k in range(len(n))])\n",
    "    \n",
    "def c_typeII(r, b, n):\n",
    "    sol = so.root(c_typeII_eqn, 0.8*np.ones(len(n)), args = (b, r, n)) #Using a numerical solver to find the c values\n",
    "    return (sol.x, sol.success)\n",
    "    "
   ]
  },
  {
   "cell_type": "code",
   "execution_count": 9,
   "metadata": {},
   "outputs": [],
   "source": [
    "##Showing all possible strategies for a given matrix"
   ]
  },
  {
   "cell_type": "code",
   "execution_count": 10,
   "metadata": {},
   "outputs": [
    {
     "name": "stdout",
     "output_type": "stream",
     "text": [
      "NGM =  [[2.8 0.3]\n",
      " [1.4 0.9]]\n",
      "FS_ord, unconstrained new size, constrained new size =  [0.66901506 0.22075936] [0.54142144 0.04142127] [0.5414223  0.04142025]\n",
      "FS_ord, sum unconstrained new size, sum constrained new size =  0.8897744122100333 0.582842704468747 0.5828425444819672\n",
      "c values: unconstrained and constrained [0.17783899 0.69258986] [0.17783784 0.69259764]\n"
     ]
    },
    {
     "name": "stderr",
     "output_type": "stream",
     "text": [
      "C:\\Users\\Pratyush\\Miniconda3\\envs\\LTURA\\lib\\site-packages\\scipy\\optimize\\_numdiff.py:579: ComplexWarning: Casting complex values to real discards the imaginary part\n",
      "  J_transposed[i] = df / dx\n",
      "C:\\Users\\Pratyush\\Miniconda3\\envs\\LTURA\\lib\\site-packages\\scipy\\optimize\\slsqp.py:427: ComplexWarning: Casting complex values to real discards the imaginary part\n",
      "  slsqp(m, meq, x, xl, xu, fx, c, g, a, acc, majiter, mode, w, jw,\n"
     ]
    }
   ],
   "source": [
    "#n = np.array([0.5, 0.5])\n",
    "n = np.array([0.7, 0.3])\n",
    "no_g = len(n)\n",
    "gamma = 1 #Recovery rate\n",
    "A = np.array([1, 1])\n",
    "#b = np.random.uniform(low = 0, high = 4, size = (no_g, no_g)) #Transmission parameters i.e. beta_ij for groups i and j\n",
    "b = np.array([[4, 2], [1, 3]])\n",
    "#b = np.array([[2, 3.5], [2.5, 1.5]])\n",
    "print('NGM = ', (b.T * n)/gamma)\n",
    "\n",
    "#b = np.array([[3, 1.25], [4, 6]])\n",
    "\n",
    "constraint_growth_rate = optimize.NonlinearConstraint(lambda x: growth_rate(n-x, b, gamma), lb=0, ub=0) #since x is final size, we pass the s array = n-x to the growth rate function\n",
    "constraint_universal = optimize.NonlinearConstraint(lambda x: c_typeII(x, b, n)[0], ub=0.95, lb = -np.inf)\n",
    "constraint_reduce_transmission = optimize.NonlinearConstraint(lambda x: c_typeII(x, b, n)[0], ub=0.95, lb=0) #Edited the upper bound to 0.95. Transmission can only be reduced by 95 % at max. 100 % is not allowed because it either involves extremely high costs or is not feasible\n",
    "\n",
    "\n",
    "count_initial_states = 0\n",
    "while count_initial_states<=20:\n",
    "    optimize_ic = np.random.rand(2)*n\n",
    "    min_size_unconstrained = optimize.minimize(LCFS, x0 = optimize_ic, args = (A), constraints = (constraint_growth_rate, constraint_universal), bounds = [(0, n[k]) for k in range(len(n))])\n",
    "    if min_size_unconstrained.success == True:\n",
    "        break\n",
    "    if count_initial_states == 20:\n",
    "        print('Can not find an unconstrained solution')\n",
    "    count_initial_states+=1    \n",
    "\n",
    "count_initial_states = 0\n",
    "while count_initial_states<=20:\n",
    "    optimize_ic = np.random.rand(2)*n\n",
    "    min_size_constrained = optimize.minimize(LCFS, x0 = optimize_ic, args = (A), constraints = (constraint_growth_rate, constraint_reduce_transmission), bounds = [(0, n[k]) for k in range(len(n))])\n",
    "    if min_size_constrained.success == True:\n",
    "        break\n",
    "    if count_initial_states == 20:\n",
    "        print('Can not find a constrained solution')\n",
    "    count_initial_states+=1\n",
    "\n",
    "c_unconstrained, soln_exists = c_typeII(min_size_unconstrained.x, b, n)\n",
    "b_unconstrained = np.array([b[k]*(1-c_unconstrained[k])*(1-c_unconstrained) for k in range(len(n))])  ## The new transmission matrix\n",
    "if np.any(c_unconstrained>0.95) or soln_exists == False: \n",
    "    print('b = ', b_unconstrained)\n",
    "    print('Could not find a valid unconstrained solution: c = ', c_unconstrained)\n",
    "\n",
    "c_constrained, soln_exists = c_typeII(min_size_constrained.x, b, n)\n",
    "b_constrained = np.array([b[k]*(1-c_constrained[k])*(1-c_constrained) for k in range(len(n))])  ## The new transmission matrix\n",
    "if (np.any(c_constrained<-1e-3) or np.any(c_constrained>0.95)) or soln_exists == False: ## -1e-3 as a threshold instead of zero, allowing for some numerical error.\n",
    "    print('b = ', b)\n",
    "    print('Could not find a valid constrained solution: c = ', c_constrained)\n",
    "\n",
    "\n",
    "root_ord = so.root(FS, 0.9*n, args = (b, n, gamma)) #Using a numerical solver to find the final size\n",
    "FS_ord = root_ord.x #The final sizes without intervention\n",
    "\n",
    "print('FS_ord, unconstrained new size, constrained new size = ', FS_ord, min_size_unconstrained.x, min_size_constrained.x)\n",
    "print('FS_ord, sum unconstrained new size, sum constrained new size = ', np.sum(FS_ord), np.sum(min_size_unconstrained.x), np.sum(min_size_constrained.x))\n",
    "print('c values: unconstrained and constrained', c_unconstrained, c_constrained)\n"
   ]
  },
  {
   "cell_type": "code",
   "execution_count": 11,
   "metadata": {},
   "outputs": [],
   "source": [
    "%matplotlib widget"
   ]
  },
  {
   "cell_type": "code",
   "execution_count": 12,
   "metadata": {},
   "outputs": [
    {
     "name": "stderr",
     "output_type": "stream",
     "text": [
      "C:\\Users\\Pratyush\\AppData\\Local\\Temp/ipykernel_3456/2624452448.py:2: RuntimeWarning: divide by zero encountered in double_scalars\n",
      "  return [(n[k]-x[k])/(n[k] - r[k]) - np.exp(-np.sum(b[k]*(x-r))/g) for k in range(len(n))]\n"
     ]
    },
    {
     "data": {
      "application/vnd.jupyter.widget-view+json": {
       "model_id": "dd8e58e389ab4ea682250dc83543b2cd",
       "version_major": 2,
       "version_minor": 0
      },
      "text/plain": [
       "Canvas(toolbar=Toolbar(toolitems=[('Home', 'Reset original view', 'home', 'home'), ('Back', 'Back to previous …"
      ]
     },
     "metadata": {},
     "output_type": "display_data"
    },
    {
     "name": "stdout",
     "output_type": "stream",
     "text": [
      "[0.17783899 0.69258986] [0.15857856 0.25857873]\n",
      "b =  [[2.70379492 0.50548126]\n",
      " [0.25274063 0.28350298]]\n",
      "[0.17783784 0.69259764] [0.1585777  0.25857975]\n",
      "b =  [[2.7038025  0.50546918]\n",
      " [0.25273459 0.28348864]]\n",
      "failed c =  [ 0.33198062 -0.07959058]\n",
      "failed c =  [ 0.38951173 -0.31275017]\n",
      "failed c =  [ 0.37866129 -0.25985938]\n",
      "failed c =  [0.8 0.8]\n"
     ]
    },
    {
     "name": "stderr",
     "output_type": "stream",
     "text": [
      "C:\\Users\\Pratyush\\AppData\\Local\\Temp/ipykernel_3456/3267254621.py:8: RuntimeWarning: divide by zero encountered in log\n",
      "  return np.array([np.sum(b[k]*(1-c[k])*(1-c)*r) + np.log(1-r[k]/n[k]) for k in range(len(n))])\n"
     ]
    }
   ],
   "source": [
    "if no_g == 2:\n",
    "    s0, s1 = np.arange(0.00, n[0]+0.01, 0.01), np.arange(0.00, n[1]+0.01, 0.01)\n",
    "    S0, S1 = [], []\n",
    "    growth_rate_list, epidemic_size_list = [], []\n",
    "    [(S0.append(x), S1.append(y), growth_rate_list.append(growth_rate([x, y], b, gamma))) for x in s0 for y in s1]\n",
    "    [(epidemic_size_list.append(np.sum(so.root(FS_two_waves, 0.9*n, args = (b, n - np.array([x, y]), n, gamma)).x))) for x in s0 for y in s1]\n",
    "    growth_rate_list = np.array(growth_rate_list)\n",
    "    S0 = np.array(S0)\n",
    "    S1 = np.array(S1)\n",
    "    growth_rate_matrix = np.real(np.reshape(growth_rate_list, (len(s0), len(s1))))\n",
    "    epidemic_size_matrix = np.real(np.reshape(epidemic_size_list, (len(s0), len(s1))))\n",
    "    thresh = np.where((growth_rate_list<0.005) & (growth_rate_list>-0.005))[0] #Looks for growth rate = 0 i.e. threshold\n",
    "\n",
    "\n",
    "    fig, ax = plt.subplots(1, 2, figsize = (10, 5)) \n",
    "    #im1 = ax.scatter(growth_rate_list[0], growth_rate_list[1], c = growth_rate_list[2], s = 4, marker = 's', cmap = 'viridis_r')\n",
    "    im1 = ax[0].imshow(growth_rate_matrix.T, cmap = 'inferno', extent = (s0[0], s0[-1], s1[0], s1[-1]), origin = 'lower', interpolation = 'none')\n",
    "    im2 = ax[1].imshow(epidemic_size_matrix.T, cmap = 'copper', extent = (s0[0], s0[-1], s1[0], s1[-1]), origin = 'lower', interpolation = 'none')\n",
    "    ax[0].plot(S0[thresh], S1[thresh], c = 'k', lw = 0, marker = '.', ls = '-.') \n",
    "    ax[1].plot(S0[thresh], S1[thresh], c = 'red', lw = 1, ls = '-.') \n",
    "    #ax[1].scatter(S0[thresh], S1[thresh], c = 'k', marker = ',', s = 0.25) \n",
    "        \n",
    "    c_vis_list = [c_unconstrained, c_constrained]\n",
    "    marker_shape = ['s', 'd']\n",
    "    if type == 2:\n",
    "        for j, c_vis in enumerate(c_vis_list):\n",
    "            c_vis = np.array(c_vis)\n",
    "            b_vis = np.array([b[k]*(1-c_vis[k])*(1-c_vis) for k in range(len(n))])  ## The new transmission matrix\n",
    "            root_vis = so.root(FS, 0.9*n, args = (b_vis, n, gamma))\n",
    "            s_vis = n - root_vis.x #The final sizes with intervention\n",
    "            ax[0].scatter(s_vis[0], s_vis[1], label = r'$c = (%.2f$, $%.2f)$'%(c_vis[0], c_vis[1]), facecolor = 'none', edgecolor = 'thistle', marker = marker_shape[j])\n",
    "            print(c_vis, s_vis)\n",
    "            print('b = ', b_vis)\n",
    "\n",
    "    check_list = thresh#[0::5]\n",
    "    temp = []\n",
    "    for j, check in enumerate(check_list):\n",
    "        c_check, c_status = c_typeII([n[0] - S0[check], n[1]-S1[check]], b, n)\n",
    "        if c_status == True and np.all(c_check>-1e-3) and np.all(c_check<1):\n",
    "            temp.append(check)\n",
    "        else:\n",
    "            print('failed c = ', c_check)\n",
    "    ax[1].plot(S0[temp], S1[temp], c = 'green', lw = 2, ls = '-') \n",
    "    #ax[0].plot(growth_rate_list[0][thresh], growth_rate_list[1][thresh], c = 'k', lw = 0.5, marker = ',', ls = '-.') \n",
    "    #ax[1].plot(growth_rate_list[0][thresh], growth_rate_list[1][thresh], c = 'k', lw = 1) \n",
    "        \n",
    "    fig.colorbar(im1, ax=ax[0], location = 'bottom')\n",
    "    fig.colorbar(im2, ax=ax[1], location = 'bottom')\n",
    "    ax[0].legend(framealpha = 0.3, fancybox = False)\n",
    "    ax[0].set_xlabel(r'$s_1^*$')\n",
    "    ax[0].set_ylabel(r'$s_2^*$')\n",
    "    ax[1].set_xlabel(r'$s_1^*$')\n",
    "    ax[1].set_ylabel(r'$s_2^*$')\n",
    "    ax[1].set_xlim(left = 0.01)\n",
    "    ax[1].set_ylim(bottom = 0.01)\n",
    "    fig.tight_layout()"
   ]
  },
  {
   "cell_type": "code",
   "execution_count": 13,
   "metadata": {},
   "outputs": [],
   "source": [
    "def SIR_equations(t, X, b, g, no_g): ##Define the dynamical equations for SIR model with 3 groups and arbitrary transmission\n",
    "    S = X[0:no_g]\n",
    "    I = X[no_g:2*no_g]\n",
    "    R = X[2*no_g:3*no_g]\n",
    "\n",
    "    dsdt = [(-S[k]*(np.sum(b[k]*I))) for k in range(no_g)]\n",
    "    didt = [(S[k]*(np.sum(b[k]*I)) - g*I[k]) for k in range(no_g)]\n",
    "    drdt = [g*I[k] for k in range(no_g)]\n",
    "    return np.concatenate((dsdt, didt, drdt))"
   ]
  },
  {
   "cell_type": "code",
   "execution_count": 14,
   "metadata": {},
   "outputs": [],
   "source": [
    "eps_i = 0.005 ## Threshold for i(t) at which intervention is imposed\n",
    "eps_f = 0.5*1e-3 ## Threshold for i(t) below which intervention is released\n",
    "ti = 0\n",
    "tf = 80\n",
    "dt = 0.05\n",
    "T = np.arange(ti, tf, dt)\n",
    "s_init, i_init, r_init = n - 1/3*1e-3, np.ones(no_g)*1/3*1e-3, np.zeros(no_g)\n",
    "X_init = np.concatenate((s_init, i_init, r_init))\n",
    "# 1/3*1e-3 is i(0) for each of the groups."
   ]
  },
  {
   "cell_type": "code",
   "execution_count": 15,
   "metadata": {},
   "outputs": [
    {
     "data": {
      "text/plain": [
       "array([0., 0.])"
      ]
     },
     "execution_count": 15,
     "metadata": {},
     "output_type": "execute_result"
    }
   ],
   "source": [
    "r_init"
   ]
  },
  {
   "cell_type": "code",
   "execution_count": 16,
   "metadata": {},
   "outputs": [
    {
     "data": {
      "text/plain": [
       "array([6.99666667e-01, 2.99666667e-01, 3.33333333e-04, 3.33333333e-04,\n",
       "       0.00000000e+00, 0.00000000e+00])"
      ]
     },
     "execution_count": 16,
     "metadata": {},
     "output_type": "execute_result"
    }
   ],
   "source": [
    "X_init"
   ]
  },
  {
   "cell_type": "code",
   "execution_count": 17,
   "metadata": {},
   "outputs": [],
   "source": [
    "SOL_ord = solve_ivp(SIR_equations, [ti, tf], X_init, t_eval = T, args = (b, gamma, no_g)) # The ordinary trajectory (without intervention)\n",
    "t_int_start_idx = np.where(np.sum(SOL_ord.y[no_g:2*no_g], axis = 0)-eps_i>=0)[0][0] ##Index value of time at which i(t) crossing eps_i\n",
    "t_int_start = T[t_int_start_idx] ## Time at which i(t) crosses eps_i\n",
    "X_init_int = SOL_ord.y[:, t_int_start_idx] ## The initial conditions for the intervention"
   ]
  },
  {
   "cell_type": "code",
   "execution_count": 18,
   "metadata": {},
   "outputs": [],
   "source": [
    "## Now we implement the unconstrained solution intervention\n",
    "SOL_int_unconstrained = solve_ivp(SIR_equations, [t_int_start, tf], X_init_int, t_eval = np.arange(t_int_start, tf, dt), args = (b_unconstrained, gamma, no_g)) \n",
    "t_int_end_uc_idx = np.where(np.sum(SOL_int_unconstrained.y[no_g:2*no_g], axis = 0) < eps_f)[0][0] ## Index value of time where i(t) reaching eps_f\n",
    "t_int_end_uc = SOL_int_unconstrained.t[t_int_end_uc_idx]  ## Time at which i(t) crosses eps_f, and intervention is released\n",
    "X_init_end_uc = SOL_int_unconstrained.y[:, t_int_end_uc_idx] ## Initial conditions for releasing the interventions\n",
    "SOL_end_unconstrained = solve_ivp(SIR_equations, [t_int_end_uc, tf], X_init_end_uc, t_eval = np.arange(t_int_end_uc, tf-dt, dt), args = (b, gamma, no_g)) #Trajectory post intervention\n",
    "\n",
    "## Now we implement the constrained solution intervention\n",
    "SOL_int_constrained = solve_ivp(SIR_equations, [t_int_start, tf], X_init_int, t_eval = np.arange(t_int_start, tf, dt), args = (b_constrained, gamma, no_g)) \n",
    "t_int_end_c_idx = np.where(np.sum(SOL_int_constrained.y[no_g:2*no_g], axis = 0) < eps_f)[0][0] ## Index value of time where i(t) reaching eps_f\n",
    "t_int_end_c = SOL_int_constrained.t[t_int_end_c_idx]  ## Time at which i(t) crosses eps_f, and intervention is released\n",
    "X_init_end_c = SOL_int_constrained.y[:, t_int_end_c_idx] ##Initial conditions for releasing the interventions\n",
    "SOL_end_constrained = solve_ivp(SIR_equations, [t_int_end_c, tf], X_init_end_c, t_eval = np.arange(t_int_end_c, tf-dt, dt), args = (b, gamma, no_g)) #Trajectory post intervention\n"
   ]
  },
  {
   "cell_type": "code",
   "execution_count": 19,
   "metadata": {},
   "outputs": [
    {
     "data": {
      "text/plain": [
       "17.850000000000016"
      ]
     },
     "execution_count": 19,
     "metadata": {},
     "output_type": "execute_result"
    }
   ],
   "source": [
    "t_int_end_c"
   ]
  },
  {
   "cell_type": "code",
   "execution_count": 20,
   "metadata": {},
   "outputs": [
    {
     "data": {
      "application/vnd.jupyter.widget-view+json": {
       "model_id": "747ad15649d043a49b0375e22c714a99",
       "version_major": 2,
       "version_minor": 0
      },
      "text/plain": [
       "Canvas(toolbar=Toolbar(toolitems=[('Home', 'Reset original view', 'home', 'home'), ('Back', 'Back to previous …"
      ]
     },
     "metadata": {},
     "output_type": "display_data"
    }
   ],
   "source": [
    "fig, axs = plt.subplots(1, 2, figsize = (17*0.6, 5*0.6), dpi = 100)\n",
    "#plt.suptitle(r'$\\beta: %.2f$, $\\gamma: %.2f$, $c: %.3f$'%(beta, gamma, c))\n",
    "\n",
    "clrs = ['r', 'g', 'b']\n",
    "for j, idx in enumerate(range(2*no_g, 3*no_g)):\n",
    "    axs[0].plot(T, SOL_ord.y[idx].T, c = clrs[j], ls = '--', label = r'$r$, Group: %d'%j, lw = 0.75)\n",
    "    axs[0].plot(SOL_int_unconstrained.t[0:t_int_end_uc_idx], SOL_int_unconstrained.y[idx, 0:t_int_end_uc_idx].T, c = clrs[j], ls = '-', lw = 0.75)\n",
    "    axs[0].plot(SOL_end_unconstrained.t, SOL_end_unconstrained.y[idx].T, c = clrs[j], ls = '-', lw = 0.75)\n",
    "    #axs[0].plot(SOL_int_unconstrained.t[0:t_int_end_uc_idx], SOL_int_unconstrained.y[idx, 0:t_int_end_uc_idx].T, c = clrs[j], ls = '-', lw = 0.75)\n",
    "    #axs[0].plot(SOL_end_unconstrained.t, SOL_end_unconstrained.y[idx].T, c = clrs[j], ls = '-', lw = 0.75)\n",
    "\n",
    "    axs[1].plot(T, SOL_ord.y[idx].T, c = clrs[j], ls = '--', label = r'$r$, Group: %d'%j, lw = 0.75)\n",
    "    axs[1].plot(SOL_int_constrained.t[0:t_int_end_c_idx], SOL_int_constrained.y[idx, 0:t_int_end_c_idx].T, c = clrs[j], ls = '-', lw = 0.75)\n",
    "    axs[1].plot(SOL_end_constrained.t, SOL_end_constrained.y[idx].T, c = clrs[j], ls = '-', lw = 0.75)\n",
    "    #axs[1].plot(SOL_int_constrained.t[0:t_int_end_c_idx], SOL_int_constrained.y[idx, 0:t_int_end_c_idx].T, c = clrs[j], ls = '-', lw = 0.75)\n",
    "    #axs[1].plot(SOL_end_constrained.t, SOL_end_constrained.y[idx].T, c = clrs[j], ls = '-', lw = 0.75)\n",
    "\n",
    "# for j, idx in enumerate([0, 1, 2]):\n",
    "#     axs[0].plot(T, SOL_ord.y[idx].T, c = clrs[j], ls = ':', label = r'$s$, Group: %d'%j, lw = 0.75)\n",
    "#     axs[0].plot(SOL_int.t, SOL_int.y[idx].T, c = clrs[j], ls = '--', lw = 0.75)\n",
    "#     axs[0].plot(SOL_rel.t, SOL_rel.y[idx].T, c = clrs[j], ls = '-', lw = 0.75)\n",
    "# for j, idx in enumerate(range(no_g, 2*no_g)):\n",
    "#     axs[1].plot(T, SOL_ord.y[idx].T, c = clrs[j], ls = ':', label = r'$i$, Group: %d'%j, lw = 0.9)\n",
    "#     axs[1].plot(SOL_int_unconstrained.t[0:t_int_end_uc_idx], SOL_int_unconstrained.y[idx, 0:t_int_end_uc_idx].T, c = clrs[j], ls = '--', lw = 0.9)\n",
    "#     axs[1].plot(SOL_end_unconstrained.t, SOL_end_unconstrained.y[idx].T, c = clrs[j], ls = '--', lw = 0.9)\n",
    "\n",
    "axs[0].yaxis.tick_right()\n",
    "axs[1].yaxis.tick_right()\n",
    "axs[0].legend(loc = 'upper right')\n",
    "axs[1].legend()\n",
    "axs[0].set_xlim(0, 40)\n",
    "axs[1].set_xlim(0, 40)\n",
    "fig.tight_layout()\n",
    "\n",
    "\n",
    "# print('Size of the groups: ', n)\n",
    "# print('Original Transmission Matrix: \\n', b)\n",
    "# print('Final Sizes for the ordinary epidemic: ', FS_ord, '; Total: ', np.sum(FS_ord))\n",
    "# print('Herd Immunity Point: s = ', s_HI)\n",
    "# print('c = ', c)\n",
    "# print('Transmission Matrix with intervention: \\n', np.round(b_c, 3))\n",
    "# print('Expected final size due to intervention: r = ', r_HI, '; Total: ', np.sum(r_HI))\n",
    "# print('Observed final size due to intervention: r = ', SOL_rel.y[6:9, -1], '; Total: ', np.sum(SOL_rel.y[6:9, -1]))\n",
    "# print('Details of the figure: dotted line is the original trajectory, dashed line is the intervention, orindary line is post intervention')"
   ]
  }
 ],
 "metadata": {
  "interpreter": {
   "hash": "8201e89ff399c2fd03cec3b2a20fe84a051f5f74b6d9bbd7e87625254e8a27b2"
  },
  "kernelspec": {
   "display_name": "Python 3.9.6 64-bit ('LTURA': conda)",
   "name": "python3"
  },
  "language_info": {
   "codemirror_mode": {
    "name": "ipython",
    "version": 3
   },
   "file_extension": ".py",
   "mimetype": "text/x-python",
   "name": "python",
   "nbconvert_exporter": "python",
   "pygments_lexer": "ipython3",
   "version": "3.9.6"
  },
  "orig_nbformat": 4
 },
 "nbformat": 4,
 "nbformat_minor": 2
}
